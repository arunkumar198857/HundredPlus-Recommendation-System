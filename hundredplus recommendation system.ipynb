{
 "cells": [
  {
   "cell_type": "code",
   "execution_count": 21,
   "metadata": {},
   "outputs": [],
   "source": [
    "#Importing libraries\n",
    "import mysql.connector\n",
    "import numpy as np\n",
    "import math\n",
    "import random"
   ]
  },
  {
   "cell_type": "code",
   "execution_count": 22,
   "metadata": {},
   "outputs": [
    {
     "name": "stdout",
     "output_type": "stream",
     "text": [
      "<mysql.connector.connection_cext.CMySQLConnection object at 0x0000027AD5FB1400>\n"
     ]
    }
   ],
   "source": [
    "#Getting connection to DB\n",
    "mydb = mysql.connector.connect(\n",
    "  host=\"localhost\",\n",
    "  user=\"root\",\n",
    "  passwd=\"imghostrider1\",\n",
    "  database=\"hundredplus\"\n",
    ")\n",
    "\n",
    "#printing the DB object \n",
    "print(mydb)"
   ]
  },
  {
   "cell_type": "code",
   "execution_count": 23,
   "metadata": {},
   "outputs": [],
   "source": [
    "#Setting up the cursor\n",
    "cursor = mydb.cursor()"
   ]
  },
  {
   "cell_type": "code",
   "execution_count": 24,
   "metadata": {},
   "outputs": [],
   "source": [
    "#Fetching relevant data\n",
    "cursor.execute(\"select * from shop_product\")\n",
    "shop_product = cursor.fetchall()\n",
    "\n",
    "cursor.execute(\"select * from shop_category_description\")\n",
    "shop_category_description = cursor.fetchall()\n",
    "\n",
    "cursor.execute(\"select * from shop_product_description\")\n",
    "shop_product_description = cursor.fetchall()"
   ]
  },
  {
   "cell_type": "code",
   "execution_count": 25,
   "metadata": {},
   "outputs": [],
   "source": [
    "def remove_duplicates(input_list):\n",
    "    final_list = [] \n",
    "    for num in input_list: \n",
    "        if num not in final_list: \n",
    "            final_list.append(num) \n",
    "    return final_list"
   ]
  },
  {
   "cell_type": "code",
   "execution_count": 26,
   "metadata": {},
   "outputs": [],
   "source": [
    "#Returning the keywords which will be used to fetch products having similar keywords\n",
    "def filter_related_keywords(related_keywords):\n",
    "    related_keywords = related_keywords[0:3]\n",
    "    return related_keywords"
   ]
  },
  {
   "cell_type": "code",
   "execution_count": 27,
   "metadata": {},
   "outputs": [],
   "source": [
    "def keyword_related_products(related_keywords):\n",
    "    products = []\n",
    "    for keyword in related_keywords:\n",
    "        query = '''select product_id from shop_product_description where keyword like \"%'''+keyword+'''%\"'''\n",
    "        cursor.execute(query)\n",
    "        products.append(cursor.fetchall())    \n",
    "    products = products[0]\n",
    "    products = [item for t in products for item in t] \n",
    "    return products"
   ]
  },
  {
   "cell_type": "code",
   "execution_count": 28,
   "metadata": {},
   "outputs": [],
   "source": [
    "def filter_category_related_products(category_related_products):\n",
    "    category_related_products = category_related_products[0]\n",
    "    category_related_products = [item for t in category_related_products for item in t]\n",
    "    \n",
    "    return category_related_products"
   ]
  },
  {
   "cell_type": "code",
   "execution_count": 29,
   "metadata": {},
   "outputs": [],
   "source": [
    "def recommend_products(popular_products, category_related_products, keyword_related_products):\n",
    "    final_products_to_be_recommended = []\n",
    "    min_stock = 10\n",
    "    \n",
    "    temp_list = popular_products + category_related_products + keyword_related_products\n",
    "    temp_list = remove_duplicates(temp_list)\n",
    "    \n",
    "    query = \"select avg(sold) from shop_product;\"\n",
    "    cursor.execute(query)\n",
    "    avg_sold = cursor.fetchall()\n",
    "    avg_sold = avg_sold[0]\n",
    "    avg_sold = avg_sold[0]\n",
    "    avg_sold = math.ceil(avg_sold)\n",
    "\n",
    "    query2 = \"select avg(view) from shop_product;\"\n",
    "    cursor.execute(query2)\n",
    "    avg_view = cursor.fetchall()\n",
    "    avg_view = avg_view[0]\n",
    "    avg_view = avg_view[0]\n",
    "    avg_view = math.ceil(avg_view)\n",
    "    \n",
    "    iterator = 0\n",
    "    \n",
    "    for iterator in range(len(temp_list)):\n",
    "        prod_id = temp_list[iterator]\n",
    "        query1 = \"\"\"select sold from shop_product where id =\"\"\"+str(prod_id)+\"\"\";\"\"\"\n",
    "        cursor.execute(query1)\n",
    "        sold = cursor.fetchall()\n",
    "        sold = sold[0]\n",
    "        sold = sold[0]\n",
    "        \n",
    "        query2 = \"\"\"select view from shop_product where id =\"\"\"+str(prod_id)+\"\"\";\"\"\"\n",
    "        cursor.execute(query2)\n",
    "        view = cursor.fetchall()\n",
    "        view = view[0]\n",
    "        view = view[0]\n",
    "        \n",
    "        query3 = \"\"\"select status from shop_product where id =\"\"\"+str(prod_id)+\"\"\";\"\"\"\n",
    "        cursor.execute(query3)\n",
    "        status = cursor.fetchall()\n",
    "        status = status[0]\n",
    "        status = status[0]\n",
    "        \n",
    "        query4 = \"\"\"select stock from shop_product where id =\"\"\"+str(prod_id)+\"\"\";\"\"\"\n",
    "        cursor.execute(query4)\n",
    "        stock = cursor.fetchall()\n",
    "        stock = stock[0]\n",
    "        stock = stock[0]\n",
    "        \n",
    "        if (sold > avg_sold) and (view > avg_view):\n",
    "            if (stock > min_stock) and (status is 1):\n",
    "                final_products_to_be_recommended.append(prod_id)\n",
    "        \n",
    "    \n",
    "    random.shuffle(final_products_to_be_recommended)\n",
    "    \n",
    "    return final_products_to_be_recommended"
   ]
  },
  {
   "cell_type": "code",
   "execution_count": 30,
   "metadata": {},
   "outputs": [
    {
     "name": "stdout",
     "output_type": "stream",
     "text": [
      "Product displayed: \n",
      "[(96, 'BALTRA, BVB 101 COLA BOTTLE, Vaccum Flask, Hot and Cold for 12 hours  with stainless steel, 350ml')]\n",
      "BRAND : BALTRA\n"
     ]
    }
   ],
   "source": [
    "#Supposing the product description page is of the product id = 85\n",
    "id_given = \"96\"\n",
    "print(\"Product displayed: \")\n",
    "cursor.execute(\"select product_id, name from shop_product_description where product_id =\"+id_given+\";\")\n",
    "displayed_product = cursor.fetchall()\n",
    "print(displayed_product)\n",
    "displayed_product_name = displayed_product[0]\n",
    "displayed_product_name = displayed_product_name[1]\n",
    "displayed_product_name\n",
    "displayed_product_brand = displayed_product_name.split(',')\n",
    "displayed_product_brand = displayed_product_brand[0]\n",
    "print(\"BRAND : \"+displayed_product_brand)"
   ]
  },
  {
   "cell_type": "code",
   "execution_count": 31,
   "metadata": {},
   "outputs": [
    {
     "name": "stdout",
     "output_type": "stream",
     "text": [
      "\n",
      "Same brand products: \n",
      "[96, 97, 98, 99, 100, 101, 102, 103, 104, 105, 106, 107, 108, 109, 110, 111, 112, 113, 114, 115, 116, 117, 118, 119, 120, 121, 122, 123, 124, 125, 126, 127, 128, 129, 130, 131, 132, 133, 134, 135]\n"
     ]
    }
   ],
   "source": [
    "#Fetching products from the same brand\n",
    "\n",
    "query = \"\"\"select product_id from shop_product_description where name like '%\"\"\"+displayed_product_brand+\"\"\"%';\"\"\"\n",
    "cursor.execute(query)\n",
    "same_brand_products = cursor.fetchall()\n",
    "same_brand_products = [item for t in same_brand_products for item in t]\n",
    "\n",
    "print(\"\\nSame brand products: \")\n",
    "start_index = same_brand_products.index(int(id_given))\n",
    "first_half = same_brand_products[start_index:]\n",
    "second_half = same_brand_products[:start_index]\n",
    "same_brand_products.clear()\n",
    "same_brand_products = first_half + second_half\n",
    "same_brand_products = same_brand_products[0:40]\n",
    "print(same_brand_products)"
   ]
  },
  {
   "cell_type": "code",
   "execution_count": 32,
   "metadata": {},
   "outputs": [
    {
     "name": "stdout",
     "output_type": "stream",
     "text": [
      "Related keywords: \n",
      "['cola bottle', 'doubled wall bottle', 'stainless steel bottle', 'insulated flask', 'copper coated bottle', 'inner linear coated with copper bottle', 'hundredplus flat 50% discount']\n",
      "\n",
      "Filtered related keywords: \n",
      "['cola bottle', 'doubled wall bottle', 'stainless steel bottle']\n",
      "\n",
      "Keyword related prouducts: \n",
      "[96, 97, 98, 99, 100, 101, 102, 103, 104, 105, 106, 107, 108, 109]\n"
     ]
    }
   ],
   "source": [
    "#Keywords related to the product\n",
    "related_keywords = []\n",
    "\n",
    "print(\"Related keywords: \")\n",
    "cursor.execute(\"select keyword from shop_product_description where product_id =\"+id_given+\";\")\n",
    "keywords = cursor.fetchall()\n",
    "\n",
    "if keywords is None:\n",
    "    keyword_related_products = []\n",
    "\n",
    "else:\n",
    "    for keyword in keywords:\n",
    "        related_keywords.append(keyword[0])\n",
    "\n",
    "    related_keywords = related_keywords[0].split(',')\n",
    "    related_keywords = related_keywords[0].split('||')\n",
    "\n",
    "    for i in range(len(related_keywords)):\n",
    "        related_keywords[i] = related_keywords[i].strip()\n",
    "    \n",
    "    print(related_keywords)\n",
    "    related_keywords = filter_related_keywords(related_keywords)\n",
    "    print(\"\\nFiltered related keywords: \")\n",
    "    print(related_keywords)\n",
    "    print(\"\\nKeyword related prouducts: \")\n",
    "    keyword_related_products = keyword_related_products(related_keywords)\n",
    "    print(keyword_related_products)"
   ]
  },
  {
   "cell_type": "code",
   "execution_count": 33,
   "metadata": {},
   "outputs": [
    {
     "name": "stdout",
     "output_type": "stream",
     "text": [
      "['66,57,61,60']\n",
      "\n",
      "Related category id's: \n",
      "['66', '57', '61', '60']\n"
     ]
    }
   ],
   "source": [
    "#Retrieving the categories list that the product is related to.\n",
    "query = \"select category_id from shop_product where id=\"+id_given+\";\"\n",
    "cursor.execute(query)\n",
    "categories = cursor.fetchall()\n",
    "\n",
    "#Converting the returned query into a python list to work upon\n",
    "tuple_elements = []\n",
    "for tuple in categories:\n",
    "    tuple_elements.append(tuple[0])\n",
    "    \n",
    "print(tuple_elements)\n",
    "categories_list = tuple_elements[0].split(',')\n",
    "print(\"\\nRelated category id's: \")\n",
    "print(categories_list)"
   ]
  },
  {
   "cell_type": "code",
   "execution_count": 34,
   "metadata": {},
   "outputs": [
    {
     "data": {
      "text/plain": [
       "{52: 'Dining & Serving',\n",
       " 53: 'Kitchen Appliances',\n",
       " 54: 'Kitchen Cookware',\n",
       " 55: 'Kitchen Tools',\n",
       " 56: 'Kitchen Utensils',\n",
       " 57: 'Storage',\n",
       " 58: 'Kitchen Items',\n",
       " 59: 'Kids',\n",
       " 60: 'Smart & Exclusive',\n",
       " 61: 'Hot Deals',\n",
       " 62: 'Fork, Knives',\n",
       " 63: 'Modular Kitchen Products',\n",
       " 64: 'Hoods, Chimney',\n",
       " 65: 'Hobs',\n",
       " 66: 'Bottles, flasks, Jars',\n",
       " 67: 'Casseroles, casserole Set',\n",
       " 68: 'Containers, Container set',\n",
       " 69: 'Boxes, Lunch Boxes, Tiffin',\n",
       " 70: 'Kitchen utility Items',\n",
       " 71: 'Stands, Racks, Holders',\n",
       " 72: 'Kitchen Tools Set',\n",
       " 73: 'Cookware Sets',\n",
       " 74: 'South Indian Cookware',\n",
       " 75: 'Pans, Pots, Handi, Kettle',\n",
       " 76: 'Tawa',\n",
       " 77: 'Pressure Cookers',\n",
       " 78: 'Appliances- Hot Deals',\n",
       " 79: 'Appliances- Smart & Exclusive',\n",
       " 80: 'Electric Pots & Kettle',\n",
       " 81: 'Dining & Serving- Hot deals',\n",
       " 82: 'Dining- Smart & Exclusive',\n",
       " 83: 'Tea Coffee sets',\n",
       " 84: 'Casserole, Pots, Handi',\n",
       " 85: 'Cutlery',\n",
       " 86: 'Bakeware',\n",
       " 87: 'Household',\n",
       " 88: 'Gas Stove, Hobs, Cook Tops',\n",
       " 89: 'Air fryer, Deep fryer',\n",
       " 90: 'Kitchen Cleaning Tools',\n",
       " 91: 'Food Preparation Tools',\n",
       " 92: 'All Cooking Tools',\n",
       " 93: 'Electric Kettle',\n",
       " 94: 'Idli Rice cooker',\n",
       " 95: 'Water purifier',\n",
       " 96: 'Chimney',\n",
       " 97: 'Atta maker',\n",
       " 98: 'Roti Maker',\n",
       " 99: 'Sandwich Maker',\n",
       " 100: 'Induction',\n",
       " 101: 'Gas Stove, Hobs',\n",
       " 102: 'Griller, Toaster',\n",
       " 103: 'Grill machine',\n",
       " 104: 'Grill, Tandoor, Barbeque',\n",
       " 105: 'Juicers, mixers, Grinders, Blenders',\n",
       " 106: 'Dining Accessories & Tableware',\n",
       " 107: 'Trays, Platter',\n",
       " 108: 'Dinner sets',\n",
       " 109: 'Crockery',\n",
       " 110: 'Cups, Mugs, Glasses',\n",
       " 111: 'Bowls',\n",
       " 112: 'Copper Items',\n",
       " 113: 'Gifting Products'}"
      ]
     },
     "execution_count": 34,
     "metadata": {},
     "output_type": "execute_result"
    }
   ],
   "source": [
    "#Making a hash-list of all the categories and their respective id's\n",
    "\n",
    "category_hash = {}\n",
    "\n",
    "query = \"select shop_category_id, name from shop_category_description;\"\n",
    "cursor.execute(query)\n",
    "result = cursor.fetchall()\n",
    "result\n",
    "\n",
    "for tuple in result:\n",
    "    category_hash[tuple[0]] = tuple[1]\n",
    "    \n",
    "category_hash"
   ]
  },
  {
   "cell_type": "code",
   "execution_count": 35,
   "metadata": {},
   "outputs": [
    {
     "name": "stdout",
     "output_type": "stream",
     "text": [
      "Categories related to this product: \n"
     ]
    },
    {
     "data": {
      "text/plain": [
       "['Bottles, flasks, Jars', 'Storage', 'Hot Deals', 'Smart & Exclusive']"
      ]
     },
     "execution_count": 35,
     "metadata": {},
     "output_type": "execute_result"
    }
   ],
   "source": [
    "#Printing the related category names w.r.t to id's using the hashlist\n",
    "print(\"Categories related to this product: \")\n",
    "related_categories = []\n",
    "\n",
    "for category in categories_list:\n",
    "    related_categories.append(category_hash[int(category)])    \n",
    "related_categories"
   ]
  },
  {
   "cell_type": "code",
   "execution_count": 36,
   "metadata": {},
   "outputs": [
    {
     "name": "stdout",
     "output_type": "stream",
     "text": [
      "\n",
      "Category related products: \n",
      "[92, 93, 94, 95, 96, 97, 98, 99, 100, 101, 102, 103, 104, 105, 106, 107, 108, 109, 110, 111, 112, 113, 114, 115, 116, 117, 118, 119, 120, 121, 168, 169, 170, 171, 172, 173, 174, 175, 176, 177, 178, 179, 180, 181, 182, 183, 184, 185, 186, 187, 188, 189, 190, 191, 192, 193, 194, 195, 196, 197, 198, 199, 200, 201, 202, 203, 204, 205, 206, 207, 208, 209, 210, 211, 212, 213, 214, 215, 216, 217, 218, 219, 220, 221, 222, 223, 224, 225, 226, 227, 228, 229, 230, 231, 232, 233, 234, 235, 236, 237, 238, 239, 240, 241, 242, 243, 244, 245, 246, 247, 248, 266, 267, 268, 318, 319, 335, 336, 337, 338, 339, 340, 349, 350, 351, 381, 382, 383, 384, 385, 459, 460, 461, 462, 463, 464, 465, 466, 467, 468, 469, 470, 471, 472, 473, 474, 475, 476, 477, 478, 479, 480, 481, 482, 483, 484, 485, 486, 487, 488, 503, 504, 505, 506, 507, 508, 509, 510, 511, 512, 513, 514, 515, 516, 517, 518, 519, 520, 521, 522, 523, 524, 525, 526, 527, 528, 529, 530, 531, 532, 533, 534, 535, 536, 537, 538, 539, 544, 545, 546, 565, 566, 567, 568, 569, 570, 571, 572, 573, 787, 788, 789, 790, 791, 792, 793, 794, 795, 796, 797, 798, 799, 800, 801, 806, 807, 808, 1021, 1022, 1023, 1024, 1025, 1026, 1027, 1046, 1047, 1048, 1049, 1050, 1051, 1052, 1053, 1054, 1055, 1056, 1080, 1081, 1082, 1083, 1084, 1085, 1086, 1133, 1134, 1135, 1136, 1137, 1138, 1139, 1140, 1141, 1142, 1143, 1144, 1145, 1161, 1162, 1163, 1164, 1165, 1166, 1185, 1186, 1187]\n"
     ]
    }
   ],
   "source": [
    "#Retrieving the category related products\n",
    "category_related_products = []\n",
    "\n",
    "for product in categories_list:\n",
    "        query = \"\"\"select id from shop_product where category_id like '%\"\"\"+product+\"\"\"%';\"\"\"\n",
    "        cursor.execute(query)\n",
    "        category_related_products.append(cursor.fetchall())\n",
    "        \n",
    "category_related_products = filter_category_related_products(category_related_products)\n",
    "\n",
    "print(\"\\nCategory related products: \")\n",
    "print(category_related_products)"
   ]
  },
  {
   "cell_type": "code",
   "execution_count": 37,
   "metadata": {},
   "outputs": [
    {
     "name": "stdout",
     "output_type": "stream",
     "text": [
      "\n",
      "Most sold products: \n"
     ]
    },
    {
     "data": {
      "text/plain": [
       "[404, 319, 787, 1144, 37, 3, 318, 407, 8, 153, 405, 443]"
      ]
     },
     "execution_count": 37,
     "metadata": {},
     "output_type": "execute_result"
    }
   ],
   "source": [
    "#Fetching most sold products to recommend (popular)\n",
    "query = \"\"\"select product_id from shop_order_detail group by(product_id) order by count(product_id) DESC;\"\"\"\n",
    "cursor.execute(query)\n",
    "most_sold_products = cursor.fetchall()\n",
    "most_sold_products = most_sold_products[0:12]\n",
    "most_sold_products = [item for t in most_sold_products for item in t]\n",
    "print(\"\\nMost sold products: \")\n",
    "most_sold_products"
   ]
  },
  {
   "cell_type": "code",
   "execution_count": 38,
   "metadata": {},
   "outputs": [
    {
     "name": "stdout",
     "output_type": "stream",
     "text": [
      "\n",
      "Most viewed products: \n"
     ]
    },
    {
     "data": {
      "text/plain": [
       "[646, 882, 787, 790, 1185, 1, 876, 798, 3, 149, 180, 440]"
      ]
     },
     "execution_count": 38,
     "metadata": {},
     "output_type": "execute_result"
    }
   ],
   "source": [
    "#Fetching most viewed products to recommend (popular)\n",
    "query = \"\"\"select id from shop_product order by shop_product.view DESC;\"\"\"\n",
    "cursor.execute(query)\n",
    "most_viewed_products = cursor.fetchall()\n",
    "most_viewed_products = most_viewed_products[0:12]\n",
    "most_viewed_products = [item for t in most_viewed_products for item in t]\n",
    "print(\"\\nMost viewed products: \")\n",
    "most_viewed_products"
   ]
  },
  {
   "cell_type": "code",
   "execution_count": 39,
   "metadata": {},
   "outputs": [
    {
     "name": "stdout",
     "output_type": "stream",
     "text": [
      "Before: \n",
      "[404, 319, 787, 1144, 37, 3, 318, 407, 8, 153, 405, 443, 646, 882, 787, 790, 1185, 1, 876, 798, 3, 149, 180, 440]\n",
      "\n",
      "After removing duplicates: \n",
      "[404, 319, 787, 1144, 37, 3, 318, 407, 8, 153, 405, 443, 646, 882, 790, 1185, 1, 876, 798, 149, 180, 440]\n",
      "\n",
      "Shuffled: \n",
      "[646, 440, 790, 8, 37, 319, 443, 1, 149, 1144, 180, 876, 407, 798, 404, 153, 318, 3, 787, 882, 405, 1185]\n"
     ]
    }
   ],
   "source": [
    "#Combining the most sold and most viewed products to form popular products\n",
    "#Using shuffling to increase randomness\n",
    "popular_products = most_sold_products + most_viewed_products\n",
    "print(\"Before: \")\n",
    "print(popular_products)\n",
    "popular_products = remove_duplicates(popular_products)\n",
    "print(\"\\nAfter removing duplicates: \")\n",
    "print(popular_products)\n",
    "random.shuffle(popular_products)\n",
    "print(\"\\nShuffled: \")\n",
    "print(popular_products)"
   ]
  },
  {
   "cell_type": "code",
   "execution_count": 40,
   "metadata": {},
   "outputs": [
    {
     "name": "stdout",
     "output_type": "stream",
     "text": [
      "\n",
      "Final products to recommend: \n",
      "[801, 787, 1144, 319, 472, 3, 318, 8, 190, 468, 1, 405]\n"
     ]
    }
   ],
   "source": [
    "products_to_recommend = recommend_products(popular_products, category_related_products, keyword_related_products)\n",
    "print(\"\\nFinal products to recommend: \")\n",
    "print(products_to_recommend)"
   ]
  }
 ],
 "metadata": {
  "kernelspec": {
   "display_name": "Python 3",
   "language": "python",
   "name": "python3"
  },
  "language_info": {
   "codemirror_mode": {
    "name": "ipython",
    "version": 3
   },
   "file_extension": ".py",
   "mimetype": "text/x-python",
   "name": "python",
   "nbconvert_exporter": "python",
   "pygments_lexer": "ipython3",
   "version": "3.7.3"
  }
 },
 "nbformat": 4,
 "nbformat_minor": 2
}
